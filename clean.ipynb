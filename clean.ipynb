{
 "cells": [
  {
   "cell_type": "markdown",
   "metadata": {},
   "source": [
    "# Data Cleaning and Preperation"
   ]
  },
  {
   "cell_type": "code",
   "execution_count": 1,
   "metadata": {},
   "outputs": [],
   "source": [
    "import os\n",
    "import utils\n",
    "from mysklearn import myutils \n",
    "from mysklearn.mypytable import MyPyTable"
   ]
  },
  {
   "cell_type": "code",
   "execution_count": 2,
   "metadata": {},
   "outputs": [
    {
     "name": "stdout",
     "output_type": "stream",
     "text": [
      "loaded\n",
      "grouped\n"
     ]
    }
   ],
   "source": [
    "\n",
    "fpath = os.path.join(\"Data\", \"beer_reviews.csv\")\n",
    "table = MyPyTable().load_from_file(fpath)\n",
    "\n",
    "print(\"loaded\")\n",
    "\n",
    "table.drop_column(\"review_taste\")\n",
    "table.drop_column(\"review_palate\")\n",
    "table.drop_column(\"review_profilename\")\n",
    "table.drop_column(\"review_aroma\")\n",
    "table.drop_column(\"review_time\")\n",
    "table.drop_column(\"review_appearance\")\n",
    "\n",
    "groups = table.group_by(\"beer_beerid\")\n",
    "\n",
    "print(\"grouped\")\n",
    "\n",
    "cleaned_table = MyPyTable()\n",
    "cleaned_table.column_names = table.column_names\n",
    "cleaned_table.column_names.remove(\"review_overall\")\n",
    "cleaned_table.column_names.append(\"rating\")\n"
   ]
  },
  {
   "cell_type": "code",
   "execution_count": 3,
   "metadata": {},
   "outputs": [],
   "source": [
    "for group in groups.values():\n",
    "    col = group.get_column(\"review_overall\")\n",
    "    average = sum(col) / len(col)\n",
    "    val = utils.high_low_discretizer(average)\n",
    "\n",
    "    group.drop_column(\"review_overall\")\n",
    "\n",
    "    row = group.data[0]\n",
    "    row.append(val)\n",
    "    cleaned_table.data.append(row)"
   ]
  },
  {
   "cell_type": "code",
   "execution_count": 4,
   "metadata": {},
   "outputs": [],
   "source": [
    "# remove NaN\n",
    "cleaned_table.remove_rows_with_missing_values()"
   ]
  },
  {
   "cell_type": "markdown",
   "metadata": {},
   "source": [
    "### Cleaning ABV Values\n",
    "We need to discretize the abv values because there are too many different values. Originally, they are doubles. Most of them have one decimal place, although some have more. We chose to discretize the abv by rounding down to the nearest integer. This will limit the number of different values to a reasonable amount. We also need to restrict the upper limit of the abv value, as some of the values above 18 only have a couple instances. We chose to solve this issue by taking all of the values above 18 and turning them into 18, because this is the cutoff where the number of instances for each value falls off. This is done in the following code."
   ]
  },
  {
   "cell_type": "code",
   "execution_count": 5,
   "metadata": {},
   "outputs": [],
   "source": [
    "# round abv\n",
    "col_index = cleaned_table.get_column_index(\"beer_abv\")\n",
    "for row in cleaned_table.data:\n",
    "    new_value = int(row[col_index])\n",
    "    if new_value >= 18:\n",
    "        new_value = 18\n",
    "    row[col_index] = new_value\n",
    "\n"
   ]
  },
  {
   "cell_type": "code",
   "execution_count": 6,
   "metadata": {},
   "outputs": [],
   "source": [
    "cleaned_table.save_to_file(\"Data/beer_reviews_cleaned.csv\")"
   ]
  },
  {
   "cell_type": "code",
   "execution_count": 7,
   "metadata": {},
   "outputs": [
    {
     "data": {
      "text/plain": [
       "<mysklearn.mypytable.MyPyTable at 0x1b674bb1d90>"
      ]
     },
     "execution_count": 7,
     "metadata": {},
     "output_type": "execute_result"
    }
   ],
   "source": [
    "mt = MyPyTable()\n",
    "mt.load_from_file(\"Data/beer_reviews_cleaned.csv\")"
   ]
  },
  {
   "cell_type": "code",
   "execution_count": 8,
   "metadata": {},
   "outputs": [],
   "source": [
    "mt.column_names\n",
    "types = mt.get_column(\"beer_style\")\n",
    "uniqueNames = []\n",
    "for name in types:\n",
    "    if not name in uniqueNames:\n",
    "        uniqueNames.append(name)\n",
    "NameSiplifier = {}\n",
    "count = 0\n",
    "for name in uniqueNames:\n",
    "    if \"Pilsener\" in name or \"Pilsner\" in name:\n",
    "        NameSiplifier[name] = \"Pilsener\"\n",
    "        uniqueNames[uniqueNames.index(name)] = \"Pilsener\"\n",
    "\n",
    "for name in uniqueNames:\n",
    "    if \"Stout\" in name or \"stout\" in name:\n",
    "        NameSiplifier[name] = \"Stout\"\n",
    "        uniqueNames[uniqueNames.index(name)] = \"Stout\"\n",
    "\n",
    "for name in uniqueNames:\n",
    "    if \"IPA\" in name:\n",
    "        NameSiplifier[name] = \"IPA\"\n",
    "        uniqueNames[uniqueNames.index(name)] = \"IPA\"\n",
    "\n",
    "for name in uniqueNames:\n",
    "    if \"Porter\" in name:\n",
    "        NameSiplifier[name] = \"Porter\"\n",
    "        uniqueNames[uniqueNames.index(name)] = \"Porter\"\n",
    "for name in uniqueNames:\n",
    "    if \"Lager\" in name:\n",
    "        NameSiplifier[name] = \"Lager\"\n",
    "        uniqueNames[uniqueNames.index(name)] = \"Lager\"        \n",
    "temp2 = []\n",
    "for name in uniqueNames:\n",
    "    if \"Strong\" in name:\n",
    "        count = count + 1\n",
    "        temp2.append(name)\n",
    "        NameSiplifier[name] = \"Strong Ale\"\n",
    "        uniqueNames[uniqueNames.index(name)] = \"Strong Al\"\n",
    "for name in uniqueNames:\n",
    "    if \"Dark\" in name:\n",
    "        count = count + 1\n",
    "        #temp2.append(name)\n",
    "        NameSiplifier[name] = \"Dark Ale\"\n",
    "        uniqueNames[uniqueNames.index(name)] = \"Dark Al\"\n",
    "for name in uniqueNames:\n",
    "    if \"Pale\" in name:\n",
    "        count = count + 1\n",
    "        #temp2.append(name)\n",
    "        NameSiplifier[name] = \"Dark Ale\"\n",
    "        uniqueNames[uniqueNames.index(name)] = \"Dark Al\"\n",
    "for name in uniqueNames:\n",
    "    if \"Ale\" in name:\n",
    "        count = count + 1\n",
    "        temp2.append(name)\n",
    "        NameSiplifier[name] = \"Ale\"\n",
    "        uniqueNames[uniqueNames.index(name)] = \"Ale\" \n",
    "others = [\"Faro\",\"Bière de Champagne\",\"Sahti\",\"Gose\",\"Kvass\",\"Braggot\",\"Eisbock\",\"Roggenbier\",\"Lambic\",\"Happoshu\",\n",
    "    \"Black\",\"Gueuze\",\"Weissbier\",\"Wheatwine\",\"Kristalweizen\",\"Chile Beer\",\"Quadrupel\"]\n",
    "for name in uniqueNames:\n",
    "    for other in others:\n",
    "        if  other in name:\n",
    "            count = count + 1\n",
    "            temp2.append(name)\n",
    "            NameSiplifier[name] = \"Other\"\n",
    "            uniqueNames[uniqueNames.index(name)] = \"Other\"    \n",
    "\n",
    "#print(count)\n",
    "\n",
    "types = mt.get_column(\"beer_style\")\n",
    "\n",
    "\n",
    "\n",
    "\n",
    "    \n",
    "\n"
   ]
  },
  {
   "cell_type": "markdown",
   "metadata": {},
   "source": [
    "Time to updata the data file so that ther will be less beer types "
   ]
  },
  {
   "cell_type": "code",
   "execution_count": 9,
   "metadata": {},
   "outputs": [],
   "source": [
    "types = mt.get_column(\"beer_style\")\n",
    "for i,type in enumerate(types):\n",
    "    try:\n",
    "        types[i] = NameSiplifier[type]\n",
    "    except:\n",
    "        1+1\n",
    "    \n",
    "mt.drop_column(\"beer_style\")\n",
    "mt.add_column(\"beer_style\",types,index=3)\n",
    "types = mt.get_column(\"beer_style\")\n",
    "\n",
    "mt.save_to_file(\"Data/beer_reviews_cleaned.csv\")"
   ]
  }
 ],
 "metadata": {
  "interpreter": {
   "hash": "fc4836a1f8c77ef59b46ee91a877fd19e2c2e6498eab2bc8311adf4e0428d723"
  },
  "kernelspec": {
   "display_name": "Python 3.9.7 ('base')",
   "language": "python",
   "name": "python3"
  },
  "language_info": {
   "codemirror_mode": {
    "name": "ipython",
    "version": 3
   },
   "file_extension": ".py",
   "mimetype": "text/x-python",
   "name": "python",
   "nbconvert_exporter": "python",
   "pygments_lexer": "ipython3",
   "version": "3.8.5"
  },
  "orig_nbformat": 4
 },
 "nbformat": 4,
 "nbformat_minor": 2
}
