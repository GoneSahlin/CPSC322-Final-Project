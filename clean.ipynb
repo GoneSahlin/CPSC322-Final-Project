{
 "cells": [
  {
   "cell_type": "markdown",
   "metadata": {},
   "source": [
    "# Data Cleaning and Preperation"
   ]
  },
  {
   "cell_type": "code",
   "execution_count": 17,
   "metadata": {},
   "outputs": [],
   "source": [
    "import os\n",
    "import utils\n",
    "from mysklearn.mypytable import MyPyTable"
   ]
  },
  {
   "cell_type": "code",
   "execution_count": 46,
   "metadata": {},
   "outputs": [
    {
     "ename": "FileNotFoundError",
     "evalue": "[Errno 2] No such file or directory: 'beer_reviews.csv'",
     "output_type": "error",
     "traceback": [
      "\u001b[1;31m---------------------------------------------------------------------------\u001b[0m",
      "\u001b[1;31mFileNotFoundError\u001b[0m                         Traceback (most recent call last)",
      "\u001b[1;32m~\\AppData\\Local\\Temp/ipykernel_10388/2933749205.py\u001b[0m in \u001b[0;36m<module>\u001b[1;34m\u001b[0m\n\u001b[0;32m      1\u001b[0m \u001b[0mfpath\u001b[0m \u001b[1;33m=\u001b[0m \u001b[0mos\u001b[0m\u001b[1;33m.\u001b[0m\u001b[0mpath\u001b[0m\u001b[1;33m.\u001b[0m\u001b[0mjoin\u001b[0m\u001b[1;33m(\u001b[0m\u001b[1;34m\"beer_reviews.csv\"\u001b[0m\u001b[1;33m)\u001b[0m\u001b[1;33m\u001b[0m\u001b[1;33m\u001b[0m\u001b[0m\n\u001b[1;32m----> 2\u001b[1;33m \u001b[0mtable\u001b[0m \u001b[1;33m=\u001b[0m \u001b[0mMyPyTable\u001b[0m\u001b[1;33m(\u001b[0m\u001b[1;33m)\u001b[0m\u001b[1;33m.\u001b[0m\u001b[0mload_from_file\u001b[0m\u001b[1;33m(\u001b[0m\u001b[0mfpath\u001b[0m\u001b[1;33m)\u001b[0m\u001b[1;33m\u001b[0m\u001b[1;33m\u001b[0m\u001b[0m\n\u001b[0m\u001b[0;32m      3\u001b[0m \u001b[1;33m\u001b[0m\u001b[0m\n\u001b[0;32m      4\u001b[0m \u001b[0mprint\u001b[0m\u001b[1;33m(\u001b[0m\u001b[1;34m\"loaded\"\u001b[0m\u001b[1;33m)\u001b[0m\u001b[1;33m\u001b[0m\u001b[1;33m\u001b[0m\u001b[0m\n\u001b[0;32m      5\u001b[0m \u001b[1;33m\u001b[0m\u001b[0m\n",
      "\u001b[1;32mc:\\Users\\caleb\\OneDrive\\Documents\\Gonzaga\\CPSC\\322\\Final Final\\CPSC322-Final-Project\\mysklearn\\mypytable.py\u001b[0m in \u001b[0;36mload_from_file\u001b[1;34m(self, filename)\u001b[0m\n\u001b[0;32m    115\u001b[0m             \u001b[0mCalls\u001b[0m \u001b[0mconvert_to_numeric\u001b[0m\u001b[1;33m(\u001b[0m\u001b[1;33m)\u001b[0m \u001b[0mafter\u001b[0m \u001b[0mload\u001b[0m\u001b[1;33m\u001b[0m\u001b[1;33m\u001b[0m\u001b[0m\n\u001b[0;32m    116\u001b[0m         \"\"\"\n\u001b[1;32m--> 117\u001b[1;33m         \u001b[1;32mwith\u001b[0m \u001b[0mopen\u001b[0m\u001b[1;33m(\u001b[0m\u001b[0mfilename\u001b[0m\u001b[1;33m,\u001b[0m \u001b[1;34m'r'\u001b[0m\u001b[1;33m)\u001b[0m \u001b[1;32mas\u001b[0m \u001b[0mfile\u001b[0m\u001b[1;33m:\u001b[0m\u001b[1;33m\u001b[0m\u001b[1;33m\u001b[0m\u001b[0m\n\u001b[0m\u001b[0;32m    118\u001b[0m             \u001b[0mreader\u001b[0m \u001b[1;33m=\u001b[0m \u001b[0mcsv\u001b[0m\u001b[1;33m.\u001b[0m\u001b[0mreader\u001b[0m\u001b[1;33m(\u001b[0m\u001b[0mfile\u001b[0m\u001b[1;33m)\u001b[0m\u001b[1;33m\u001b[0m\u001b[1;33m\u001b[0m\u001b[0m\n\u001b[0;32m    119\u001b[0m \u001b[1;33m\u001b[0m\u001b[0m\n",
      "\u001b[1;31mFileNotFoundError\u001b[0m: [Errno 2] No such file or directory: 'beer_reviews.csv'"
     ]
    }
   ],
   "source": [
    "\n",
    "fpath = os.path.join(\"beer_reviews.csv\")\n",
    "table = MyPyTable().load_from_file(fpath)\n",
    "\n",
    "print(\"loaded\")\n",
    "\n",
    "table.drop_column(\"review_taste\")\n",
    "table.drop_column(\"review_palate\")\n",
    "table.drop_column(\"review_profilename\")\n",
    "table.drop_column(\"review_aroma\")\n",
    "table.drop_column(\"review_time\")\n",
    "table.drop_column(\"review_appearance\")\n",
    "\n",
    "groups = table.group_by(\"beer_beerid\")\n",
    "\n",
    "print(\"grouped\")\n",
    "\n",
    "cleaned_table = MyPyTable()\n",
    "cleaned_table.column_names = table.column_names\n",
    "cleaned_table.column_names.remove(\"review_overall\")\n",
    "cleaned_table.column_names.append(\"rating\")\n",
    "\n",
    "for group in groups.values():\n",
    "    col = group.get_column(\"review_overall\")\n",
    "\n",
    "    average = sum(col) / len(col)\n",
    "    val = utils.high_low_discretizer(average)\n",
    "\n",
    "    group.drop_column(\"review_overall\")\n",
    "\n",
    "    row = group.data[0]\n",
    "    row.append(val)\n",
    "    cleaned_table.data.append(row)\n",
    "\n",
    "cleaned_table.save_to_file(\"beer_reviews_cleaned.csv\")"
   ]
  },
  {
   "cell_type": "code",
   "execution_count": 47,
   "metadata": {},
   "outputs": [
    {
     "data": {
      "text/plain": [
       "<mysklearn.mypytable.MyPyTable at 0x26299a22a00>"
      ]
     },
     "execution_count": 47,
     "metadata": {},
     "output_type": "execute_result"
    }
   ],
   "source": [
    "mt = MyPyTable()\n",
    "mt.load_from_file(\"Data/beer_reviews_cleaned.csv\")"
   ]
  },
  {
   "cell_type": "code",
   "execution_count": 51,
   "metadata": {},
   "outputs": [],
   "source": [
    "mt.column_names\n",
    "types = mt.get_column(\"beer_style\")\n",
    "uniqueNames = []\n",
    "for name in types:\n",
    "    if not name in uniqueNames:\n",
    "        uniqueNames.append(name)\n",
    "NameSiplifier = {}\n",
    "count = 0\n",
    "for name in uniqueNames:\n",
    "    if \"Pilsener\" in name or \"Pilsner\" in name:\n",
    "        NameSiplifier[name] = \"Pilsener\"\n",
    "        uniqueNames[uniqueNames.index(name)] = \"Pilsener\"\n",
    "\n",
    "for name in uniqueNames:\n",
    "    if \"Stout\" in name or \"stout\" in name:\n",
    "        NameSiplifier[name] = \"Stout\"\n",
    "        uniqueNames[uniqueNames.index(name)] = \"Stout\"\n",
    "\n",
    "for name in uniqueNames:\n",
    "    if \"IPA\" in name:\n",
    "        NameSiplifier[name] = \"IPA\"\n",
    "        uniqueNames[uniqueNames.index(name)] = \"IPA\"\n",
    "\n",
    "for name in uniqueNames:\n",
    "    if \"Porter\" in name:\n",
    "        NameSiplifier[name] = \"Porter\"\n",
    "        uniqueNames[uniqueNames.index(name)] = \"Porter\"\n",
    "for name in uniqueNames:\n",
    "    if \"Lager\" in name:\n",
    "        NameSiplifier[name] = \"Lager\"\n",
    "        uniqueNames[uniqueNames.index(name)] = \"Lager\"        \n",
    "temp2 = []\n",
    "for name in uniqueNames:\n",
    "    if \"Strong\" in name:\n",
    "        count = count + 1\n",
    "        temp2.append(name)\n",
    "        NameSiplifier[name] = \"Strong Ale\"\n",
    "        uniqueNames[uniqueNames.index(name)] = \"Strong Al\"\n",
    "for name in uniqueNames:\n",
    "    if \"Dark\" in name:\n",
    "        count = count + 1\n",
    "        #temp2.append(name)\n",
    "        NameSiplifier[name] = \"Dark Ale\"\n",
    "        uniqueNames[uniqueNames.index(name)] = \"Dark Al\"\n",
    "for name in uniqueNames:\n",
    "    if \"Pale\" in name:\n",
    "        count = count + 1\n",
    "        #temp2.append(name)\n",
    "        NameSiplifier[name] = \"Dark Ale\"\n",
    "        uniqueNames[uniqueNames.index(name)] = \"Dark Al\"\n",
    "for name in uniqueNames:\n",
    "    if \"Ale\" in name:\n",
    "        count = count + 1\n",
    "        temp2.append(name)\n",
    "        NameSiplifier[name] = \"Ale\"\n",
    "        uniqueNames[uniqueNames.index(name)] = \"Ale\" \n",
    "others = [\"Faro\",\"Bière de Champagne\",\"Sahti\",\"Gose\",\"Kvass\",\"Braggot\",\"Eisbock\",\"Roggenbier\",\"Lambic\",\"Happoshu\",\n",
    "    \"Black\",\"Gueuze\",\"Weissbier\",\"Wheatwine\",\"Kristalweizen\",\"Chile Beer\",\"Quadrupel\"]\n",
    "for name in uniqueNames:\n",
    "    for other in others:\n",
    "        if  other in name:\n",
    "            count = count + 1\n",
    "            temp2.append(name)\n",
    "            NameSiplifier[name] = \"Other\"\n",
    "            uniqueNames[uniqueNames.index(name)] = \"Other\"    \n",
    "\n",
    "#print(count)\n",
    "\n",
    "types = mt.get_column(\"beer_style\")\n",
    "\n",
    "\n",
    "\n",
    "\n",
    "    \n",
    "\n"
   ]
  },
  {
   "cell_type": "markdown",
   "metadata": {},
   "source": [
    "Time to updata the data file so that ther will be less beer types "
   ]
  },
  {
   "cell_type": "code",
   "execution_count": 59,
   "metadata": {},
   "outputs": [
    {
     "name": "stdout",
     "output_type": "stream",
     "text": [
      "['brewery_id', 'brewery_name', 'beer_name', 'beer_style', 'beer_abv', 'beer_beerid', 'rating']\n"
     ]
    }
   ],
   "source": [
    "types = mt.get_column(\"beer_style\")\n",
    "for i,type in enumerate(types):\n",
    "    try:\n",
    "        types[i] = NameSiplifier[type]\n",
    "    except:\n",
    "        1+1\n",
    "    \n",
    "mt.drop_column(\"beer_style\")\n",
    "mt.add_column(\"beer_style\",types,index=3)\n",
    "types = mt.get_column(\"beer_style\")\n",
    "\n",
    "mt.save_to_file(\"Data/beer_reviews_cleaned.csv\")"
   ]
  }
 ],
 "metadata": {
  "interpreter": {
   "hash": "fc4836a1f8c77ef59b46ee91a877fd19e2c2e6498eab2bc8311adf4e0428d723"
  },
  "kernelspec": {
   "display_name": "Python 3.9.7 ('base')",
   "language": "python",
   "name": "python3"
  },
  "language_info": {
   "codemirror_mode": {
    "name": "ipython",
    "version": 3
   },
   "file_extension": ".py",
   "mimetype": "text/x-python",
   "name": "python",
   "nbconvert_exporter": "python",
   "pygments_lexer": "ipython3",
   "version": "3.9.7"
  },
  "orig_nbformat": 4
 },
 "nbformat": 4,
 "nbformat_minor": 2
}
