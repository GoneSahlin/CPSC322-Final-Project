{
 "cells": [
  {
   "cell_type": "code",
   "execution_count": 1,
   "metadata": {},
   "outputs": [],
   "source": [
    "# some useful mysklearn package import statements and reloads\n",
    "import importlib\n",
    "import os\n",
    "from matplotlib import pyplot as plt\n",
    "\n",
    "import mysklearn.myutils\n",
    "importlib.reload(mysklearn.myutils)\n",
    "import mysklearn.myutils as myutils\n",
    "\n",
    "# uncomment once you paste your mypytable.py into mysklearn package\n",
    "import mysklearn.mypytable\n",
    "importlib.reload(mysklearn.mypytable)\n",
    "from mysklearn.mypytable import MyPyTable \n",
    "\n",
    "# uncomment once you paste your myclassifiers.py into mysklearn package\n",
    "import mysklearn.myclassifiers\n",
    "importlib.reload(mysklearn.myclassifiers)\n",
    "from mysklearn.myclassifiers import MyKNeighborsClassifier, MyDummyClassifier, MyNaiveBayesClassifier, MyDecisionTreeClassifier, MyRandomForestClassifier\n",
    "\n",
    "import mysklearn.myevaluation\n",
    "importlib.reload(mysklearn.myevaluation)\n",
    "import mysklearn.myevaluation as myevaluation\n",
    "\n",
    "import utils\n",
    "importlib.reload(utils)\n",
    "import utils as utils"
   ]
  },
  {
   "cell_type": "code",
   "execution_count": 2,
   "metadata": {},
   "outputs": [],
   "source": [
    "fpath = os.path.join(\"Data\", \"beer_reviews_cleaned.csv\")\n",
    "table = MyPyTable().load_from_file(fpath)"
   ]
  },
  {
   "cell_type": "markdown",
   "metadata": {},
   "source": [
    "## Data Analysis\n",
    "\n",
    "### Beer Styles\n",
    "We need to better understand the different values for the style of beer in order to make decisions on how to treat that attribute. If there are too many different styles, then we will need to combine similar styles. We will count the number of instances with each style and make a bar chart displaying the frequencies of each beer style.\n",
    "\n",
    "First, we need to count the frequencies of each style. This can be done with the code."
   ]
  },
  {
   "cell_type": "code",
   "execution_count": 3,
   "metadata": {},
   "outputs": [],
   "source": [
    "styles = table.get_column(\"beer_style\")\n",
    "\n",
    "style_counts = {}\n",
    "for style in styles:\n",
    "    if style not in style_counts:\n",
    "        style_counts[style] = 1\n",
    "    else:\n",
    "        style_counts[style] += 1\n"
   ]
  },
  {
   "cell_type": "code",
   "execution_count": 4,
   "metadata": {},
   "outputs": [],
   "source": [
    "ratings = table.get_column(\"rating\")"
   ]
  },
  {
   "cell_type": "markdown",
   "metadata": {},
   "source": [
    "Now that the counts of all of the styles are stored in a dictionary, we can use matplotlib to create a bar chart using `plt.bar()`."
   ]
  },
  {
   "cell_type": "code",
   "execution_count": 5,
   "metadata": {},
   "outputs": [
    {
     "data": {
      "image/png": "[encoded data removed]",
      "text/plain": [
       "<Figure size 432x288 with 1 Axes>"
      ]
     },
     "metadata": {},
     "output_type": "display_data"
    }
   ],
   "source": [
    "plt.bar(style_counts.keys(), style_counts.values())\n",
    "\n",
    "plt.show()"
   ]
  },
  {
   "cell_type": "markdown",
   "metadata": {},
   "source": [
    "## Classification\n",
    "\n",
    "We want to test to make sure that our data can be classified. We will do this by creating multiple classifiers and testing their performance over the dataset.\n",
    "\n",
    "First, we need to split the data into X and y. Our y attribute, or class attribute, is the rating, because we are trying to predict the rating of a beer. First, we will try to use beer_style and beer_abv as the X attributes.\n"
   ]
  },
  {
   "cell_type": "code",
   "execution_count": 6,
   "metadata": {},
   "outputs": [],
   "source": [
    "table = table.get_columns(['beer_style', 'beer_abv', 'rating'])\n",
    "table.remove_rows_with_missing_values()\n",
    "\n",
    "X = table.get_columns(['beer_style', 'beer_abv']).data\n",
    "y = table.get_column('rating')\n"
   ]
  },
  {
   "cell_type": "markdown",
   "metadata": {},
   "source": [
    "Next, we will use stratified k-fold cross validation to train and test our classifiers with a k value of 10. This will ensure that we are testing each instance of the dataset exactly once. We are making a dummy classifier, a Naive Bayes classifier, and a decision tree classifier. We are not using a kNN classifier because the dataset is very large and it takes too long."
   ]
  },
  {
   "cell_type": "code",
   "execution_count": 7,
   "metadata": {},
   "outputs": [],
   "source": [
    "X_train_folds, X_test_folds = myevaluation.stratified_kfold_cross_validation(X, y, 10, random_state=0, shuffle=True)\n",
    "\n",
    "dummy_y_pred = []\n",
    "# knn_y_pred = []\n",
    "nb_y_pred = []\n",
    "dt_y_pred = []\n",
    "rf_y_pred = []\n",
    "y_true = []\n",
    "for fold in range(len(X_train_folds)):\n",
    "    X_train = [X[index] for index in X_train_folds[fold]]\n",
    "    y_train = [y[index] for index in X_train_folds[fold]]\n",
    "    X_test = [X[index] for index in X_test_folds[fold]]\n",
    "    y_test = [y[index] for index in X_test_folds[fold]]\n",
    "\n",
    "    dummy_clf = MyDummyClassifier()\n",
    "    dummy_clf.fit(X_train, y_train)\n",
    "    dummy_y_pred.extend(dummy_clf.predict(X_test))\n",
    "\n",
    "    # knn_clf = MyKNeighborsClassifier(5)\n",
    "    # knn_clf.fit(X_train, y_train)\n",
    "    # knn_y_pred.extend(knn_clf.predict(X_test))\n",
    "\n",
    "    nb_clf = MyNaiveBayesClassifier()\n",
    "    nb_clf.fit(X_train, y_train)\n",
    "    nb_y_pred.extend(nb_clf.predict(X_test))\n",
    "\n",
    "    dt_clf = MyDecisionTreeClassifier()\n",
    "    dt_clf.fit(X_train, y_train)\n",
    "    dt_y_pred.extend(dt_clf.predict(X_test))\n",
    "\n",
    "    rf_clf = MyRandomForestClassifier(4, 10, 2)\n",
    "    rf_clf.fit(X_train, y_train)\n",
    "    rf_y_pred.extend(rf_clf.predict(X_test))\n",
    "\n",
    "    y_true.extend(y_test)"
   ]
  },
  {
   "cell_type": "code",
   "execution_count": null,
   "metadata": {},
   "outputs": [
    {
     "name": "stdout",
     "output_type": "stream",
     "text": [
      "Dummy Perfomance:\n",
      "Accuracy: 0.7415739528795812\n",
      "Error rate: 0.25842604712041883\n",
      "Precision: 0.7415739528795812\n",
      "Recall: 1.0\n",
      "F1 measure: 0.851613509324064\n",
      "Confusion Matrix:\n",
      "        high    low    Total    Recognition %\n",
      "----  ------  -----  -------  ---------------\n",
      "high   36260      0    36260              100\n",
      "low    12636      0    12636                0\n"
     ]
    }
   ],
   "source": [
    "labels = [\"high\", \"low\"]\n",
    "pos_label = \"high\"\n",
    "\n",
    "utils.measure_performance(y_true, dummy_y_pred, labels, pos_label, \"Dummy\")"
   ]
  },
  {
   "cell_type": "code",
   "execution_count": null,
   "metadata": {},
   "outputs": [],
   "source": [
    "# utils.measure_performance(y_true, knn_y_pred, labels, pos_label, \"KNN\")"
   ]
  },
  {
   "cell_type": "code",
   "execution_count": null,
   "metadata": {},
   "outputs": [
    {
     "name": "stdout",
     "output_type": "stream",
     "text": [
      "Naive Bayes Perfomance:\n",
      "Accuracy: 0.7600212696335078\n",
      "Error rate: 0.2399787303664922\n",
      "Precision: 0.7860908921239268\n",
      "Recall: 0.9292608935466078\n",
      "F1 measure: 0.8517011273444215\n",
      "Confusion Matrix:\n",
      "        high    low    Total    Recognition %\n",
      "----  ------  -----  -------  ---------------\n",
      "high   33695   2565    36260               93\n",
      "low     9169   3467    12636               27\n"
     ]
    }
   ],
   "source": [
    "utils.measure_performance(y_true, nb_y_pred, labels, pos_label, \"Naive Bayes\")"
   ]
  },
  {
   "cell_type": "code",
   "execution_count": null,
   "metadata": {},
   "outputs": [
    {
     "name": "stdout",
     "output_type": "stream",
     "text": [
      "Decision Tree Perfomance:\n",
      "Accuracy: 0.7633753272251309\n",
      "Error rate: 0.2366246727748691\n",
      "Precision: 0.7837409212098925\n",
      "Recall: 0.9404026475455047\n",
      "F1 measure: 0.8549543676662321\n",
      "Confusion Matrix:\n",
      "        high    low    Total    Recognition %\n",
      "----  ------  -----  -------  ---------------\n",
      "high   34099   2161    36260               94\n",
      "low     9409   3227    12636               26\n"
     ]
    }
   ],
   "source": [
    "utils.measure_performance(y_true, dt_y_pred, labels, pos_label, \"Decision Tree\")"
   ]
  },
  {
   "cell_type": "code",
   "execution_count": null,
   "metadata": {},
   "outputs": [],
   "source": [
    "utils.measure_performance(y_true, rf_y_pred, labels, pos_label, \"Random Forest\")"
   ]
  },
  {
   "cell_type": "markdown",
   "metadata": {},
   "source": [
    "Using these attributes did not give us very good results. The decision tree had the highest accuracy with 76.3%, which is only marginally higher than the dummy classifier accuracy of 74.1%."
   ]
  },
  {
   "cell_type": "markdown",
   "metadata": {},
   "source": [
    "### Using More Attributes\n",
    "Due to the poor results previously, we decided to collect more data to use. We used the Google Places API to get more data on the breweries. This is done in the file named `places_api.ipynb`. We were able to get address, price level, and rating of each brewery. This data has been combined into `joined_data.csv`.\n",
    "\n",
    "First, we need to load in this new data."
   ]
  },
  {
   "cell_type": "code",
   "execution_count": null,
   "metadata": {},
   "outputs": [],
   "source": [
    "joined_path = os.path.join(\"Data\", \"joined_data.csv\")\n",
    "joined_table = MyPyTable().load_from_file(joined_path)"
   ]
  },
  {
   "cell_type": "markdown",
   "metadata": {},
   "source": [
    "Next, we need to split the data into X and y. We will keep rating as our y attribute, but this time, we will use beer_style, beer_abv, brewery_rating, and brewery_country as the X attributes."
   ]
  },
  {
   "cell_type": "code",
   "execution_count": null,
   "metadata": {},
   "outputs": [],
   "source": [
    "joined_table = joined_table.get_columns(['beer_style', 'beer_abv', 'rating', 'brewery_country', 'brewery_rating'])\n",
    "joined_table.remove_rows_with_missing_values()\n",
    "\n",
    "X_2 = table.get_columns(['beer_style', 'beer_abv']).data\n",
    "y_2 = table.get_column('rating')"
   ]
  },
  {
   "cell_type": "code",
   "execution_count": null,
   "metadata": {},
   "outputs": [],
   "source": [
    "X_train_folds_2, X_test_folds_2 = myevaluation.stratified_kfold_cross_validation(X_2, y_2, 10, random_state=0, shuffle=True)\n",
    "\n",
    "dummy_y_pred_2 = []\n",
    "# knn_y_pred_2 = []\n",
    "nb_y_pred_2 = []\n",
    "dt_y_pred_2 = []\n",
    "rf_y_pred = []\n",
    "y_true_2 = []\n",
    "for fold in range(len(X_train_folds_2)):\n",
    "    X_train = [X_2[index] for index in X_train_folds_2[fold]]\n",
    "    y_train = [y_2[index] for index in X_train_folds_2[fold]]\n",
    "    X_test = [X_2[index] for index in X_test_folds_2[fold]]\n",
    "    y_test = [y_2[index] for index in X_test_folds_2[fold]]\n",
    "\n",
    "    dummy_clf = MyDummyClassifier()\n",
    "    dummy_clf.fit(X_train, y_train)\n",
    "    dummy_y_pred_2.extend(dummy_clf.predict(X_test))\n",
    "\n",
    "    # knn_clf = MyKNeighborsClassifier(5)\n",
    "    # knn_clf.fit(X_train, y_train)\n",
    "    # knn_y_pred_2.extend(knn_clf.predict(X_test))\n",
    "\n",
    "    nb_clf = MyNaiveBayesClassifier()\n",
    "    nb_clf.fit(X_train, y_train)\n",
    "    nb_y_pred_2.extend(nb_clf.predict(X_test))\n",
    "\n",
    "    dt_clf = MyDecisionTreeClassifier()\n",
    "    dt_clf.fit(X_train, y_train)\n",
    "    dt_y_pred_2.extend(dt_clf.predict(X_test))\n",
    "\n",
    "    rf_clf = MyRandomForestClassifier(4, 10, 2)\n",
    "    rf_clf.fit(X_train, y_train)\n",
    "    rf_y_pred.extend(rf_clf.predict(X_test))\n",
    "\n",
    "    y_true_2.extend(y_test)"
   ]
  },
  {
   "cell_type": "code",
   "execution_count": null,
   "metadata": {},
   "outputs": [
    {
     "name": "stdout",
     "output_type": "stream",
     "text": [
      "Dummy Perfomance:\n",
      "Accuracy: 0.7415739528795812\n",
      "Error rate: 0.25842604712041883\n",
      "Precision: 0.7415739528795812\n",
      "Recall: 1.0\n",
      "F1 measure: 0.851613509324064\n",
      "Confusion Matrix:\n",
      "        high    low    Total    Recognition %\n",
      "----  ------  -----  -------  ---------------\n",
      "high   36260      0    36260              100\n",
      "low    12636      0    12636                0\n"
     ]
    }
   ],
   "source": [
    "labels = [\"high\", \"low\"]\n",
    "pos_label = \"high\"\n",
    "\n",
    "utils.measure_performance(y_true_2, dummy_y_pred_2, labels, pos_label, \"Dummy\")"
   ]
  },
  {
   "cell_type": "code",
   "execution_count": null,
   "metadata": {},
   "outputs": [],
   "source": [
    "# utils.measure_performance(y_true_2, knn_y_pred_2, labels, pos_label, \"KNN\")"
   ]
  },
  {
   "cell_type": "code",
   "execution_count": null,
   "metadata": {},
   "outputs": [
    {
     "name": "stdout",
     "output_type": "stream",
     "text": [
      "Naive Bayes Perfomance:\n",
      "Accuracy: 0.7603484947643979\n",
      "Error rate: 0.23965150523560208\n",
      "Precision: 0.7856511010754691\n",
      "Recall: 0.9307777164920022\n",
      "F1 measure: 0.8520790729379687\n",
      "Confusion Matrix:\n",
      "        high    low    Total    Recognition %\n",
      "----  ------  -----  -------  ---------------\n",
      "high   33750   2510    36260               93\n",
      "low     9208   3428    12636               27\n"
     ]
    }
   ],
   "source": [
    "utils.measure_performance(y_true_2, nb_y_pred_2, labels, pos_label, \"Naive Bayes\")"
   ]
  },
  {
   "cell_type": "code",
   "execution_count": null,
   "metadata": {},
   "outputs": [
    {
     "name": "stdout",
     "output_type": "stream",
     "text": [
      "Decision Tree Perfomance:\n",
      "Accuracy: 0.7633344240837696\n",
      "Error rate: 0.2366655759162304\n",
      "Precision: 0.7837309796349928\n",
      "Recall: 0.9403474903474903\n",
      "F1 measure: 0.8549256575483288\n",
      "Confusion Matrix:\n",
      "        high    low    Total    Recognition %\n",
      "----  ------  -----  -------  ---------------\n",
      "high   34097   2163    36260               94\n",
      "low     9409   3227    12636               26\n"
     ]
    }
   ],
   "source": [
    "utils.measure_performance(y_true_2, dt_y_pred_2, labels, pos_label, \"Decision Tree\")"
   ]
  },
  {
   "cell_type": "code",
   "execution_count": null,
   "metadata": {},
   "outputs": [],
   "source": [
    "utils.measure_performance(y_true, rf_y_pred, labels, pos_label, \"Random Forest\")"
   ]
  }
 ],
 "metadata": {
  "interpreter": {
   "hash": "a14c1a041059ddcd6da10df41ab8f16aa6e86fa16b3fe6fddd97626b2eeeed4d"
  },
  "kernelspec": {
   "display_name": "Python 3.8.5 ('base')",
   "language": "python",
   "name": "python3"
  },
  "language_info": {
   "codemirror_mode": {
    "name": "ipython",
    "version": 3
   },
   "file_extension": ".py",
   "mimetype": "text/x-python",
   "name": "python",
   "nbconvert_exporter": "python",
   "pygments_lexer": "ipython3",
   "version": "3.8.5"
  },
  "orig_nbformat": 4
 },
 "nbformat": 4,
 "nbformat_minor": 2
}
