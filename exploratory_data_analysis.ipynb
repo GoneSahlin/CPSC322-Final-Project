{
 "cells": [
  {
   "cell_type": "code",
   "execution_count": 21,
   "metadata": {},
   "outputs": [],
   "source": [
    "# some useful mysklearn package import statements and reloads\n",
    "import importlib\n",
    "import os\n",
    "from matplotlib import pyplot as plt\n",
    "\n",
    "import mysklearn.myutils\n",
    "importlib.reload(mysklearn.myutils)\n",
    "import mysklearn.myutils as myutils\n",
    "\n",
    "# uncomment once you paste your mypytable.py into mysklearn package\n",
    "import mysklearn.mypytable\n",
    "importlib.reload(mysklearn.mypytable)\n",
    "from mysklearn.mypytable import MyPyTable \n",
    "\n",
    "# uncomment once you paste your myclassifiers.py into mysklearn package\n",
    "import mysklearn.myclassifiers\n",
    "importlib.reload(mysklearn.myclassifiers)\n",
    "from mysklearn.myclassifiers import MyKNeighborsClassifier, MyDummyClassifier, MyNaiveBayesClassifier, MyDecisionTreeClassifier\n",
    "\n",
    "import mysklearn.myevaluation\n",
    "importlib.reload(mysklearn.myevaluation)\n",
    "import mysklearn.myevaluation as myevaluation\n",
    "\n",
    "import utils\n",
    "importlib.reload(utils)\n",
    "import utils as utils"
   ]
  },
  {
   "cell_type": "code",
   "execution_count": 2,
   "metadata": {},
   "outputs": [],
   "source": [
    "fpath = os.path.join(\"beer_reviews_cleaned.csv\")\n",
    "table = MyPyTable().load_from_file(fpath)"
   ]
  },
  {
   "cell_type": "markdown",
   "metadata": {},
   "source": [
    "## Data Analysis\n",
    "\n",
    "### Beer Styles\n",
    "We need to better understand the different values for the style of beer in order to make decisions on how to treat that attribute. If there are too many different styles, then we will need to combine similar styles. We will count the number of instances with each style and make a bar chart displaying the frequencies of each beer style.\n",
    "\n",
    "First, we need to count the frequencies of each style. This can be done with the code."
   ]
  },
  {
   "cell_type": "code",
   "execution_count": 30,
   "metadata": {},
   "outputs": [],
   "source": [
    "styles = table.get_column(\"beer_style\")\n",
    "\n",
    "style_counts = {}\n",
    "for style in styles:\n",
    "    if style not in style_counts:\n",
    "        style_counts[style] = 1\n",
    "    else:\n",
    "        style_counts[style] += 1\n"
   ]
  },
  {
   "cell_type": "markdown",
   "metadata": {},
   "source": [
    "Now that the counts of all of the styles are stored in a dictionary, we can use matplotlib to create a bar chart using `plt.bar()`."
   ]
  },
  {
   "cell_type": "code",
   "execution_count": 31,
   "metadata": {},
   "outputs": [
    {
     "data": {
      "image/png": "[encoded data removed]",
      "text/plain": [
       "<Figure size 432x288 with 1 Axes>"
      ]
     },
     "metadata": {},
     "output_type": "display_data"
    }
   ],
   "source": [
    "plt.bar(style_counts.keys(), style_counts.values())\n",
    "plt.show()"
   ]
  },
  {
   "cell_type": "markdown",
   "metadata": {},
   "source": [
    "### Classification"
   ]
  },
  {
   "cell_type": "code",
   "execution_count": 5,
   "metadata": {},
   "outputs": [],
   "source": [
    "table = table.get_columns(['beer_style', 'beer_abv', 'rating'])\n",
    "table.remove_rows_with_missing_values()\n",
    "\n",
    "X = table.get_columns(['beer_style', 'beer_abv']).data\n",
    "y = table.get_column('rating')"
   ]
  },
  {
   "cell_type": "code",
   "execution_count": 8,
   "metadata": {},
   "outputs": [],
   "source": [
    "X_train, X_test, y_train, y_test = myevaluation.train_test_split(X, y, .25, random_state=0, shuffle=True)\n",
    "\n",
    "kNN_clf = MyKNeighborsClassifier(n_neighbors=10)\n",
    "kNN_clf.fit(X_train, y_train)\n",
    "kNN_y_predicted = kNN_clf.predict(X_test)\n",
    "\n",
    "kNN_acc = myevaluation.accuracy_score(y_test, kNN_y_predicted)"
   ]
  },
  {
   "cell_type": "code",
   "execution_count": 9,
   "metadata": {},
   "outputs": [
    {
     "name": "stdout",
     "output_type": "stream",
     "text": [
      "0.7636497184363014\n"
     ]
    }
   ],
   "source": [
    "print(kNN_acc)"
   ]
  },
  {
   "cell_type": "code",
   "execution_count": 11,
   "metadata": {},
   "outputs": [
    {
     "ename": "KeyError",
     "evalue": "10.98",
     "output_type": "error",
     "traceback": [
      "\u001b[1;31m---------------------------------------------------------------------------\u001b[0m",
      "\u001b[1;31mKeyError\u001b[0m                                  Traceback (most recent call last)",
      "\u001b[1;32m<ipython-input-11-3f76f94b0a4d>\u001b[0m in \u001b[0;36m<module>\u001b[1;34m\u001b[0m\n\u001b[0;32m      1\u001b[0m \u001b[0mnb_clf\u001b[0m \u001b[1;33m=\u001b[0m \u001b[0mMyNaiveBayesClassifier\u001b[0m\u001b[1;33m(\u001b[0m\u001b[1;33m)\u001b[0m\u001b[1;33m\u001b[0m\u001b[1;33m\u001b[0m\u001b[0m\n\u001b[0;32m      2\u001b[0m \u001b[0mnb_clf\u001b[0m\u001b[1;33m.\u001b[0m\u001b[0mfit\u001b[0m\u001b[1;33m(\u001b[0m\u001b[0mX_train\u001b[0m\u001b[1;33m,\u001b[0m \u001b[0my_train\u001b[0m\u001b[1;33m)\u001b[0m\u001b[1;33m\u001b[0m\u001b[1;33m\u001b[0m\u001b[0m\n\u001b[1;32m----> 3\u001b[1;33m \u001b[0mnb_y_predicted\u001b[0m \u001b[1;33m=\u001b[0m \u001b[0mnb_clf\u001b[0m\u001b[1;33m.\u001b[0m\u001b[0mpredict\u001b[0m\u001b[1;33m(\u001b[0m\u001b[0mX_test\u001b[0m\u001b[1;33m)\u001b[0m\u001b[1;33m\u001b[0m\u001b[1;33m\u001b[0m\u001b[0m\n\u001b[0m\u001b[0;32m      4\u001b[0m \u001b[1;33m\u001b[0m\u001b[0m\n\u001b[0;32m      5\u001b[0m \u001b[0mnb_acc\u001b[0m \u001b[1;33m=\u001b[0m \u001b[0mmyevaluation\u001b[0m\u001b[1;33m.\u001b[0m\u001b[0maccuracy_score\u001b[0m\u001b[1;33m(\u001b[0m\u001b[0my_test\u001b[0m\u001b[1;33m,\u001b[0m \u001b[0mnb_y_predicted\u001b[0m\u001b[1;33m)\u001b[0m\u001b[1;33m\u001b[0m\u001b[1;33m\u001b[0m\u001b[0m\n",
      "\u001b[1;32mc:\\Users\\zach\\Classes\\322\\CPSC322-Final-Project\\mysklearn\\myclassifiers.py\u001b[0m in \u001b[0;36mpredict\u001b[1;34m(self, X_test)\u001b[0m\n\u001b[0;32m    329\u001b[0m                 \u001b[0mprob\u001b[0m \u001b[1;33m=\u001b[0m \u001b[1;36m1\u001b[0m\u001b[1;33m\u001b[0m\u001b[1;33m\u001b[0m\u001b[0m\n\u001b[0;32m    330\u001b[0m                 \u001b[1;32mfor\u001b[0m \u001b[0mi\u001b[0m\u001b[1;33m,\u001b[0m \u001b[0mx_label\u001b[0m \u001b[1;32min\u001b[0m \u001b[0menumerate\u001b[0m\u001b[1;33m(\u001b[0m\u001b[0mx\u001b[0m\u001b[1;33m)\u001b[0m\u001b[1;33m:\u001b[0m\u001b[1;33m\u001b[0m\u001b[1;33m\u001b[0m\u001b[0m\n\u001b[1;32m--> 331\u001b[1;33m                     \u001b[0mprob\u001b[0m \u001b[1;33m*=\u001b[0m \u001b[0mself\u001b[0m\u001b[1;33m.\u001b[0m\u001b[0mposteriors\u001b[0m\u001b[1;33m[\u001b[0m\u001b[0mi\u001b[0m\u001b[1;33m]\u001b[0m\u001b[1;33m[\u001b[0m\u001b[0mx_label\u001b[0m\u001b[1;33m]\u001b[0m\u001b[1;33m[\u001b[0m\u001b[0my_label\u001b[0m\u001b[1;33m]\u001b[0m\u001b[1;33m\u001b[0m\u001b[1;33m\u001b[0m\u001b[0m\n\u001b[0m\u001b[0;32m    332\u001b[0m \u001b[1;33m\u001b[0m\u001b[0m\n\u001b[0;32m    333\u001b[0m                 \u001b[0mprob\u001b[0m \u001b[1;33m*=\u001b[0m \u001b[0mself\u001b[0m\u001b[1;33m.\u001b[0m\u001b[0mpriors\u001b[0m\u001b[1;33m[\u001b[0m\u001b[0my_label\u001b[0m\u001b[1;33m]\u001b[0m\u001b[1;33m\u001b[0m\u001b[1;33m\u001b[0m\u001b[0m\n",
      "\u001b[1;31mKeyError\u001b[0m: 10.98"
     ]
    }
   ],
   "source": [
    "nb_clf = MyNaiveBayesClassifier()\n",
    "nb_clf.fit(X_train, y_train)\n",
    "nb_y_predicted = nb_clf.predict(X_test)\n",
    "\n",
    "nb_acc = myevaluation.accuracy_score(y_test, nb_y_predicted)"
   ]
  },
  {
   "cell_type": "code",
   "execution_count": null,
   "metadata": {},
   "outputs": [],
   "source": []
  },
  {
   "cell_type": "code",
   "execution_count": 10,
   "metadata": {},
   "outputs": [],
   "source": [
    "# X_train_folds, X_test_folds = myevaluation.stratified_kfold_cross_validation(X, y, 10, random_state=0, shuffle=True)\n",
    "\n",
    "# dummy_y_pred = []\n",
    "# knn_y_pred = []\n",
    "# nb_y_pred = []\n",
    "# dt_y_pred = []\n",
    "# y_true = []\n",
    "# for fold in range(len(X_train_folds)):\n",
    "#     X_train = [X[index] for index in X_train_folds[fold]]\n",
    "#     y_train = [y[index] for index in X_train_folds[fold]]\n",
    "#     X_test = [X[index] for index in X_test_folds[fold]]\n",
    "#     y_test = [y[index] for index in X_test_folds[fold]]\n",
    "\n",
    "#     # dummy_clf = MyDummyClassifier()\n",
    "#     # dummy_clf.fit(X_train, y_train)\n",
    "#     # dummy_y_pred.extend(dummy_clf.predict(X_test))\n",
    "\n",
    "#     knn_clf = MyKNeighborsClassifier(5)\n",
    "#     knn_clf.fit(X_train, y_train)\n",
    "#     knn_y_pred.extend(knn_clf.predict(X_test))\n",
    "\n",
    "#     # nb_clf = MyNaiveBayesClassifier()\n",
    "#     # nb_clf.fit(X_train, y_train)\n",
    "#     # nb_y_pred.extend(nb_clf.predict(X_test))\n",
    "\n",
    "#     # dt_clf = MyDecisionTreeClassifier()\n",
    "#     # dt_clf.fit(X_train, y_train)\n",
    "#     # dt_y_pred.extend(dt_clf.predict(X_test))\n",
    "\n",
    "#     y_true.extend(y_test)"
   ]
  }
 ],
 "metadata": {
  "interpreter": {
   "hash": "a14c1a041059ddcd6da10df41ab8f16aa6e86fa16b3fe6fddd97626b2eeeed4d"
  },
  "kernelspec": {
   "display_name": "Python 3.8.5 ('base')",
   "language": "python",
   "name": "python3"
  },
  "language_info": {
   "codemirror_mode": {
    "name": "ipython",
    "version": 3
   },
   "file_extension": ".py",
   "mimetype": "text/x-python",
   "name": "python",
   "nbconvert_exporter": "python",
   "pygments_lexer": "ipython3",
   "version": "3.8.5"
  },
  "orig_nbformat": 4
 },
 "nbformat": 4,
 "nbformat_minor": 2
}
