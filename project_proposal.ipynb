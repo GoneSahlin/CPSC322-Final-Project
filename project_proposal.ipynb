{
 "cells": [
  {
   "cell_type": "markdown",
   "metadata": {},
   "source": [
    "# Beer Rating Classifier\n",
    "#### Zach Sahlin and Caleb Barker"
   ]
  },
  {
   "cell_type": "markdown",
   "metadata": {},
   "source": [
    "### Dataset Description\n",
    "We got our Data from https://data.world/socialmediadata/beeradvocate. It is formatted as a csv and is 172 MB. It contains 13 attributes brewery_id, brewery_name, review_time, review_overall, review_aroma, review_profilename, beer_style, review_palate, review_taste, beer_name, beer_abv, beer_beerid. The data set contains over half of the estimated breweries in the world and contains 66,055 beers. Additionally, we will get data from the google API about the rating of the brewery and additionally the location of the brewery. Then we will merge it with another csv from https://www.kaggle.com/datasets/nickhould/craft-cans to get the IBU index for some of the beers. Using all of this data we are going to try and predict a rating for the beer (review_overall)."
   ]
  },
  {
   "cell_type": "markdown",
   "metadata": {},
   "source": [
    "### Implementation/Technical Merit\n",
    "One of the challenges in pre-processing is going to be getting the averages of the different beers, as some have multiple reviews. It also will be difficult to upload the dataset as it has 1.5 million instances, and thus is too large to push to github. This will likely require breaking down the dataset into multiple parts. Another challenge will be merging with another dataset to get the IBU value, as that is not included in this dataset but would be a valueable attribute to use for classification.\n",
    "\n",
    "One of the challenges we might face in classification is not having enough attributes.\n",
    "\n",
    "The number of attributes isn't very large, so we shouldn't need to explore too many feature selection techniques, but we could use them to pare down some of the attributes that might not make an impact."
   ]
  },
  {
   "cell_type": "markdown",
   "metadata": {},
   "source": [
    "### Potential Impact of the Results\n",
    "This classifier will be useful to many different stakeholders.\n",
    "* Breweries could use it to predict whether a new beer will be recieved well by consumers, and should produce more of.\n",
    "* Consumers could use it to make informed decisions on which beers to buy without needing to spend money trying all of them.\n",
    "* Distributers could use it to predict which beers are better and thus will sell faster, allowing them to stock up on those beers.\n",
    "\n",
    "42% of Americans drink beer, therefore this classifier could impact a large proportion of the population."
   ]
  }
 ],
 "metadata": {
  "interpreter": {
   "hash": "a14c1a041059ddcd6da10df41ab8f16aa6e86fa16b3fe6fddd97626b2eeeed4d"
  },
  "kernelspec": {
   "display_name": "Python 3.8.5 ('base')",
   "language": "python",
   "name": "python3"
  },
  "language_info": {
   "codemirror_mode": {
    "name": "ipython",
    "version": 3
   },
   "file_extension": ".py",
   "mimetype": "text/x-python",
   "name": "python",
   "nbconvert_exporter": "python",
   "pygments_lexer": "ipython3",
   "version": "3.8.5"
  },
  "orig_nbformat": 4
 },
 "nbformat": 4,
 "nbformat_minor": 2
}
