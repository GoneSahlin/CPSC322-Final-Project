{
 "cells": [
  {
   "cell_type": "code",
   "execution_count": 3,
   "metadata": {},
   "outputs": [],
   "source": [
    "import os\n",
    "\n",
    "from mysklearn.mypytable import MyPyTable"
   ]
  },
  {
   "cell_type": "markdown",
   "metadata": {},
   "source": [
    "## Getting More Brewery Data\n",
    "\n",
    "We need more attributes to train on, because our accuracy is too low. We can use the Google Places API to gather more data on the breweries. The goal is to collect data on the location of the brewery, the price level, and the rating. Then we will store the data in a csv file named `places_data.csv`.\n",
    "\n",
    "The first step is to build a list of the unique brewery names. This can be done with the following code."
   ]
  },
  {
   "cell_type": "code",
   "execution_count": 5,
   "metadata": {},
   "outputs": [],
   "source": [
    "fpath_reviews = os.path.join(\"Data\", \"beer_reviews_cleaned.csv\")\n",
    "table = MyPyTable().load_from_file(fpath_reviews)\n",
    "\n",
    "col_index = table.get_column_index(\"brewery_name\")\n",
    "\n",
    "unique_names = {}\n",
    "for row in table.data:\n",
    "    if row[col_index] not in unique_names:\n",
    "        unique_names[row[col_index]] = 0\n",
    "# print(unique_names)\n"
   ]
  },
  {
   "cell_type": "markdown",
   "metadata": {},
   "source": [
    "Next, we will start searching the API. We need to be careful not to make too many requests, so we are going to do them bit by bit, saving them into a file as we go. This means that we need to be careful not to make repeat requests."
   ]
  },
  {
   "cell_type": "code",
   "execution_count": 10,
   "metadata": {},
   "outputs": [
    {
     "name": "stdout",
     "output_type": "stream",
     "text": [
      "hi\n"
     ]
    }
   ],
   "source": [
    "# load table\n",
    "fpath_breweries = os.path.join(\"Data\", \"places_data.csv\")\n",
    "places_table = MyPyTable().load_from_file(fpath_breweries)\n",
    "\n",
    "# name_index = places_table.get_column_index(\"brewery_name\")\n",
    "names_done = places_table.get_column(\"brewery_name\")\n",
    "\n",
    "for name in unique_names:\n",
    "    if name not in names_done:\n",
    "        \n",
    "        break"
   ]
  }
 ],
 "metadata": {
  "interpreter": {
   "hash": "a14c1a041059ddcd6da10df41ab8f16aa6e86fa16b3fe6fddd97626b2eeeed4d"
  },
  "kernelspec": {
   "display_name": "Python 3.8.5 ('base')",
   "language": "python",
   "name": "python3"
  },
  "language_info": {
   "codemirror_mode": {
    "name": "ipython",
    "version": 3
   },
   "file_extension": ".py",
   "mimetype": "text/x-python",
   "name": "python",
   "nbconvert_exporter": "python",
   "pygments_lexer": "ipython3",
   "version": "3.8.5"
  },
  "orig_nbformat": 4
 },
 "nbformat": 4,
 "nbformat_minor": 2
}
