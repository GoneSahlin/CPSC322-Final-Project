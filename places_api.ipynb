{
 "cells": [
  {
   "cell_type": "code",
   "execution_count": 16,
   "metadata": {},
   "outputs": [],
   "source": [
    "import os\n",
    "import urllib\n",
    "import requests\n",
    "import json\n",
    "\n",
    "from mysklearn.mypytable import MyPyTable"
   ]
  },
  {
   "cell_type": "markdown",
   "metadata": {},
   "source": [
    "## Getting More Brewery Data\n",
    "\n",
    "We need more attributes to train on, because our accuracy is too low. We can use the Google Places API to gather more data on the breweries. The goal is to collect data on the location of the brewery, the price level, and the rating. Then we will store the data in a csv file named `places_data.csv`.\n",
    "\n",
    "The first step is to build a list of the unique brewery names. This can be done with the following code."
   ]
  },
  {
   "cell_type": "code",
   "execution_count": 40,
   "metadata": {},
   "outputs": [],
   "source": [
    "fpath_reviews = os.path.join(\"Data\", \"beer_reviews_cleaned.csv\")\n",
    "table = MyPyTable().load_from_file(fpath_reviews)\n",
    "\n",
    "col_index = table.get_column_index(\"brewery_name\")\n",
    "\n",
    "unique_names = {}\n",
    "for row in table.data:\n",
    "    if row[col_index] not in unique_names:\n",
    "        unique_names[row[col_index]] = 0\n",
    "# print(unique_names)\n"
   ]
  },
  {
   "cell_type": "markdown",
   "metadata": {},
   "source": [
    "Next, we will start searching the API. We need to be careful not to make too many requests, so we are going to do them bit by bit, saving them into a file as we go. This means that we need to be careful not to make repeat requests. The API key is stored in a separate file named `api_key.txt`, which will not be uploaded to GitHub. To run this you can get an API key from Google Places, or you can see the results of this in the `places_data.csv` file."
   ]
  },
  {
   "cell_type": "code",
   "execution_count": 41,
   "metadata": {},
   "outputs": [],
   "source": [
    "# load table\n",
    "fpath_breweries = os.path.join(\"Data\", \"places_data.csv\")\n",
    "places_table = MyPyTable().load_from_file(fpath_breweries)\n",
    "\n",
    "names_done = places_table.get_column(\"brewery_name\")\n",
    "names_done_dict = {}\n",
    "for name in names_done:\n",
    "    names_done_dict[name] = 0\n",
    "\n",
    "api_key_file = open(\"api_key.txt\", \"r\")\n",
    "api_key = api_key_file.read()\n",
    "\n",
    "i = 0\n",
    "for name in unique_names:\n",
    "    if name not in names_done_dict:\n",
    "        url = 'https://maps.googleapis.com/maps/api/place/findplacefromtext/json?'\n",
    "        url += 'fields=name%2Cformatted_address%2Cprice_level%2Crating'\n",
    "        url += '&input='\n",
    "        url += urllib.parse.quote(name)\n",
    "        url += '&inputtype=textquery'\n",
    "        url += '&key=' + api_key\n",
    "        \n",
    "        payload = {}\n",
    "        headers = {}\n",
    "\n",
    "        response = requests.request(\"GET\", url, headers=headers, data=payload)\n",
    "\n",
    "        # print(\"status code:\", response.status_code)  # should be status code 200\n",
    "        if response.status_code == 200:\n",
    "            # OK\n",
    "            # parse the message body JSON\n",
    "            json_obj = json.loads(response.text)\n",
    "            candidates = json_obj['candidates']\n",
    "            if not candidates:\n",
    "                row = [name, '', '', '']\n",
    "            else:\n",
    "                brewery_dict = candidates[0]\n",
    "                # store the data in a row in places_table\n",
    "                row = [name]\n",
    "                # not all attributes are available for every request\n",
    "                if 'formatted_address' in brewery_dict:\n",
    "                    row.append(brewery_dict['formatted_address'])\n",
    "                else:\n",
    "                    row.append('')\n",
    "                if 'price_level' in brewery_dict:\n",
    "                    row.append(brewery_dict['price_level'])\n",
    "                else:\n",
    "                    row.append('')\n",
    "                if 'rating' in brewery_dict:\n",
    "                    row.append(brewery_dict['rating'])\n",
    "                else:\n",
    "                    row.append('')\n",
    "            # add row to places_table\n",
    "            places_table.data.append(row)\n",
    "\n",
    "        # stop after n requests\n",
    "        if i < 1000:\n",
    "            i += 1\n",
    "        else:\n",
    "            print(\"limit reached\")\n",
    "            break\n",
    "\n",
    "# save places_table\n",
    "places_table.save_to_file(\"Data/places_data.csv\")"
   ]
  }
 ],
 "metadata": {
  "interpreter": {
   "hash": "a14c1a041059ddcd6da10df41ab8f16aa6e86fa16b3fe6fddd97626b2eeeed4d"
  },
  "kernelspec": {
   "display_name": "Python 3.8.5 ('base')",
   "language": "python",
   "name": "python3"
  },
  "language_info": {
   "codemirror_mode": {
    "name": "ipython",
    "version": 3
   },
   "file_extension": ".py",
   "mimetype": "text/x-python",
   "name": "python",
   "nbconvert_exporter": "python",
   "pygments_lexer": "ipython3",
   "version": "3.8.5"
  },
  "orig_nbformat": 4
 },
 "nbformat": 4,
 "nbformat_minor": 2
}
